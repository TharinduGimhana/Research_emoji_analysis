{
 "cells": [
  {
   "cell_type": "code",
   "execution_count": 1,
   "metadata": {},
   "outputs": [],
   "source": [
    "import pandas as pd"
   ]
  },
  {
   "cell_type": "code",
   "execution_count": 253,
   "metadata": {},
   "outputs": [],
   "source": [
    "data = pd.read_csv('data/nike_vapormax_flyknit_3.csv')"
   ]
  },
  {
   "cell_type": "code",
   "execution_count": 254,
   "metadata": {},
   "outputs": [
    {
     "name": "stdout",
     "output_type": "stream",
     "text": [
      "Index(['date', 'username', 'to', 'replies', 'retweets', 'favorites', 'text',\n",
      "       'geo', 'mentions', 'hashtags', 'id', 'permalink'],\n",
      "      dtype='object')\n"
     ]
    }
   ],
   "source": [
    "print(data.columns)"
   ]
  },
  {
   "cell_type": "code",
   "execution_count": 255,
   "metadata": {},
   "outputs": [],
   "source": [
    "df = data.drop(['date', 'username', 'to', 'replies', 'retweets', 'favorites', 'geo', 'mentions', 'hashtags', 'id', 'permalink'], axis = 1)"
   ]
  },
  {
   "cell_type": "code",
   "execution_count": 256,
   "metadata": {},
   "outputs": [
    {
     "name": "stdout",
     "output_type": "stream",
     "text": [
      "Index(['text'], dtype='object')\n"
     ]
    }
   ],
   "source": [
    "print(df.columns)"
   ]
  },
  {
   "cell_type": "code",
   "execution_count": 257,
   "metadata": {},
   "outputs": [
    {
     "data": {
      "text/html": [
       "<div>\n",
       "<style scoped>\n",
       "    .dataframe tbody tr th:only-of-type {\n",
       "        vertical-align: middle;\n",
       "    }\n",
       "\n",
       "    .dataframe tbody tr th {\n",
       "        vertical-align: top;\n",
       "    }\n",
       "\n",
       "    .dataframe thead th {\n",
       "        text-align: right;\n",
       "    }\n",
       "</style>\n",
       "<table border=\"1\" class=\"dataframe\">\n",
       "  <thead>\n",
       "    <tr style=\"text-align: right;\">\n",
       "      <th></th>\n",
       "      <th>text</th>\n",
       "    </tr>\n",
       "  </thead>\n",
       "  <tbody>\n",
       "    <tr>\n",
       "      <th>0</th>\n",
       "      <td>Thankful.. ❤️💖🖤🧡 1. Nike Epic React Flyknit 2....</td>\n",
       "    </tr>\n",
       "    <tr>\n",
       "      <th>1</th>\n",
       "      <td>Arriving at London @Selfridges this week | @Ni...</td>\n",
       "    </tr>\n",
       "    <tr>\n",
       "      <th>2</th>\n",
       "      <td>🔥RAPPEL RELEASE🔥 NIKE AIR VAPORMAX FLYKNIT RED...</td>\n",
       "    </tr>\n",
       "    <tr>\n",
       "      <th>3</th>\n",
       "      <td>Le pack Nike Betrue 2018 dispo à 9H : 1/Air Ma...</td>\n",
       "    </tr>\n",
       "    <tr>\n",
       "      <th>4</th>\n",
       "      <td>Did the Nike Volt Vapor Max get pushed? What a...</td>\n",
       "    </tr>\n",
       "    <tr>\n",
       "      <th>...</th>\n",
       "      <td>...</td>\n",
       "    </tr>\n",
       "    <tr>\n",
       "      <th>158</th>\n",
       "      <td>The @nikerunning Women's Air VaporMax Flyknit ...</td>\n",
       "    </tr>\n",
       "    <tr>\n",
       "      <th>159</th>\n",
       "      <td>NIKE AIR VAPORMAX FLYKNIT BLACK/MTLC RED BRONZ...</td>\n",
       "    </tr>\n",
       "    <tr>\n",
       "      <th>160</th>\n",
       "      <td>NIKE WMNS AIR VAPORMAX FLYKNIT SUMMIT WHITE/MT...</td>\n",
       "    </tr>\n",
       "    <tr>\n",
       "      <th>161</th>\n",
       "      <td>2017.8.3 (the) in store ■NIKE AIR VAPORMAX FLY...</td>\n",
       "    </tr>\n",
       "    <tr>\n",
       "      <th>162</th>\n",
       "      <td>Release Date : August 3, 2017 Nike Air VaporMa...</td>\n",
       "    </tr>\n",
       "  </tbody>\n",
       "</table>\n",
       "<p>163 rows × 1 columns</p>\n",
       "</div>"
      ],
      "text/plain": [
       "                                                  text\n",
       "0    Thankful.. ❤️💖🖤🧡 1. Nike Epic React Flyknit 2....\n",
       "1    Arriving at London @Selfridges this week | @Ni...\n",
       "2    🔥RAPPEL RELEASE🔥 NIKE AIR VAPORMAX FLYKNIT RED...\n",
       "3    Le pack Nike Betrue 2018 dispo à 9H : 1/Air Ma...\n",
       "4    Did the Nike Volt Vapor Max get pushed? What a...\n",
       "..                                                 ...\n",
       "158  The @nikerunning Women's Air VaporMax Flyknit ...\n",
       "159  NIKE AIR VAPORMAX FLYKNIT BLACK/MTLC RED BRONZ...\n",
       "160  NIKE WMNS AIR VAPORMAX FLYKNIT SUMMIT WHITE/MT...\n",
       "161  2017.8.3 (the) in store ■NIKE AIR VAPORMAX FLY...\n",
       "162  Release Date : August 3, 2017 Nike Air VaporMa...\n",
       "\n",
       "[163 rows x 1 columns]"
      ]
     },
     "execution_count": 257,
     "metadata": {},
     "output_type": "execute_result"
    }
   ],
   "source": [
    "df"
   ]
  },
  {
   "cell_type": "code",
   "execution_count": 258,
   "metadata": {},
   "outputs": [],
   "source": [
    "df.to_csv(r'data/data/17.18/nike_vapormax_flyknit_3.txt' ,index = True)"
   ]
  },
  {
   "cell_type": "code",
   "execution_count": null,
   "metadata": {},
   "outputs": [],
   "source": []
  },
  {
   "cell_type": "code",
   "execution_count": null,
   "metadata": {},
   "outputs": [],
   "source": []
  }
 ],
 "metadata": {
  "kernelspec": {
   "display_name": "Python 3",
   "language": "python",
   "name": "python3"
  },
  "language_info": {
   "codemirror_mode": {
    "name": "ipython",
    "version": 3
   },
   "file_extension": ".py",
   "mimetype": "text/x-python",
   "name": "python",
   "nbconvert_exporter": "python",
   "pygments_lexer": "ipython3",
   "version": "3.7.6"
  }
 },
 "nbformat": 4,
 "nbformat_minor": 4
}
