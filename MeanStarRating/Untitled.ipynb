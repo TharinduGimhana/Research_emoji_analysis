{
 "cells": [
  {
   "cell_type": "code",
   "execution_count": 1,
   "metadata": {},
   "outputs": [],
   "source": [
    "import pandas as pd"
   ]
  },
  {
   "cell_type": "code",
   "execution_count": 2,
   "metadata": {},
   "outputs": [],
   "source": [
    "import xlrd\n",
    "import csv"
   ]
  },
  {
   "cell_type": "code",
   "execution_count": 3,
   "metadata": {},
   "outputs": [],
   "source": [
    "df_nike_air_jordan_1_mid = pd.read_excel('datasets/nike_air_jordan_1_mid.xlsx', 'Sheet1', index_col=None)\n",
    "df_nike_air_force_1_07 = pd.read_excel('datasets/nike_air_ force_1_07.xlsx', 'Sheet1', index_col=None)\n",
    "df_nike_air_max_97 = pd.read_excel('datasets/nike_air_max_97.xlsx', 'Sheet1', index_col=None)\n",
    "df_nike_air_max_270 = pd.read_excel('datasets/nike_air_max_270.xlsx', 'Sheet1', index_col=None)\n",
    "df_nike_air_max_720 = pd.read_excel('datasets/nike_air_max_720.xlsx', 'Sheet1', index_col=None)\n",
    "df_nike_air_vapormax_flyknit_3 = pd.read_excel('datasets/nike_air_vapormax_flyknit_3.xlsx', 'Sheet1', index_col=None)\n",
    "df_nike_leborn_17 = pd.read_excel('datasets/nike_leborn_17.xlsx', 'Sheet1', index_col=None)\n",
    "df_nike_m2K_tekno = pd.read_excel('datasets/nike_m2K_tekno.xlsx', 'Sheet1', index_col=None)\n",
    "df_nike_react_element_55 = pd.read_excel('datasets/nike_react_element_55.xlsx', 'Sheet1', index_col=None)\n",
    "df_nike_zoom_pegasus_turbo_2 = pd.read_excel('datasets/nike_zoom_pegasus_turbo 2.xlsx', 'Sheet1', index_col=None)\n",
    "df_nike_tanjun = pd.read_excel('datasets/nike_tanjun.xlsx', 'Sheet1', index_col=None)"
   ]
  },
  {
   "cell_type": "code",
   "execution_count": 4,
   "metadata": {},
   "outputs": [
    {
     "data": {
      "text/html": [
       "<div>\n",
       "<style scoped>\n",
       "    .dataframe tbody tr th:only-of-type {\n",
       "        vertical-align: middle;\n",
       "    }\n",
       "\n",
       "    .dataframe tbody tr th {\n",
       "        vertical-align: top;\n",
       "    }\n",
       "\n",
       "    .dataframe thead th {\n",
       "        text-align: right;\n",
       "    }\n",
       "</style>\n",
       "<table border=\"1\" class=\"dataframe\">\n",
       "  <thead>\n",
       "    <tr style=\"text-align: right;\">\n",
       "      <th></th>\n",
       "      <th>Unnamed: 0</th>\n",
       "      <th>Star rating</th>\n",
       "      <th>Texual reviews</th>\n",
       "      <th>Date</th>\n",
       "    </tr>\n",
       "  </thead>\n",
       "  <tbody>\n",
       "    <tr>\n",
       "      <th>0</th>\n",
       "      <td>NaN</td>\n",
       "      <td>5</td>\n",
       "      <td>The shoes were new, authentic, Great looking a...</td>\n",
       "      <td>2020-08-05</td>\n",
       "    </tr>\n",
       "    <tr>\n",
       "      <th>1</th>\n",
       "      <td>NaN</td>\n",
       "      <td>5</td>\n",
       "      <td>My son (who is \"48\" ) loves them! I asked how ...</td>\n",
       "      <td>2020-08-05</td>\n",
       "    </tr>\n",
       "    <tr>\n",
       "      <th>2</th>\n",
       "      <td>NaN</td>\n",
       "      <td>5</td>\n",
       "      <td>Visually appealing. Supportive yet lightweight...</td>\n",
       "      <td>2020-06-22</td>\n",
       "    </tr>\n",
       "    <tr>\n",
       "      <th>3</th>\n",
       "      <td>NaN</td>\n",
       "      <td>3</td>\n",
       "      <td>J'ai commandé le modèle blanc avec motif vert ...</td>\n",
       "      <td>2020-06-16</td>\n",
       "    </tr>\n",
       "    <tr>\n",
       "      <th>4</th>\n",
       "      <td>NaN</td>\n",
       "      <td>5</td>\n",
       "      <td>I would highly recommend these. I liked them s...</td>\n",
       "      <td>2020-06-13</td>\n",
       "    </tr>\n",
       "    <tr>\n",
       "      <th>...</th>\n",
       "      <td>...</td>\n",
       "      <td>...</td>\n",
       "      <td>...</td>\n",
       "      <td>...</td>\n",
       "    </tr>\n",
       "    <tr>\n",
       "      <th>63</th>\n",
       "      <td>NaN</td>\n",
       "      <td>5</td>\n",
       "      <td>\\nThey are a great pair of basketball shoes. I...</td>\n",
       "      <td>2019-09-26</td>\n",
       "    </tr>\n",
       "    <tr>\n",
       "      <th>64</th>\n",
       "      <td>NaN</td>\n",
       "      <td>4</td>\n",
       "      <td>Being a high constructed shoe it being so ligh...</td>\n",
       "      <td>2019-09-26</td>\n",
       "    </tr>\n",
       "    <tr>\n",
       "      <th>65</th>\n",
       "      <td>NaN</td>\n",
       "      <td>4</td>\n",
       "      <td>Love the overall concept of the shoe...the air...</td>\n",
       "      <td>2019-09-26</td>\n",
       "    </tr>\n",
       "    <tr>\n",
       "      <th>66</th>\n",
       "      <td>NaN</td>\n",
       "      <td>5</td>\n",
       "      <td>Comfort/cushioning is awesome, traction went w...</td>\n",
       "      <td>2019-09-26</td>\n",
       "    </tr>\n",
       "    <tr>\n",
       "      <th>67</th>\n",
       "      <td>NaN</td>\n",
       "      <td>4</td>\n",
       "      <td>I have 9+ pairs of the 15’s and no 16’s. The 1...</td>\n",
       "      <td>2019-09-26</td>\n",
       "    </tr>\n",
       "  </tbody>\n",
       "</table>\n",
       "<p>68 rows × 4 columns</p>\n",
       "</div>"
      ],
      "text/plain": [
       "    Unnamed: 0  Star rating   \\\n",
       "0          NaN             5   \n",
       "1          NaN             5   \n",
       "2          NaN             5   \n",
       "3          NaN             3   \n",
       "4          NaN             5   \n",
       "..         ...           ...   \n",
       "63         NaN             5   \n",
       "64         NaN             4   \n",
       "65         NaN             4   \n",
       "66         NaN             5   \n",
       "67         NaN             4   \n",
       "\n",
       "                                      Texual reviews        Date  \n",
       "0   The shoes were new, authentic, Great looking a... 2020-08-05  \n",
       "1   My son (who is \"48\" ) loves them! I asked how ... 2020-08-05  \n",
       "2   Visually appealing. Supportive yet lightweight... 2020-06-22  \n",
       "3   J'ai commandé le modèle blanc avec motif vert ... 2020-06-16  \n",
       "4   I would highly recommend these. I liked them s... 2020-06-13  \n",
       "..                                                ...        ...  \n",
       "63  \\nThey are a great pair of basketball shoes. I... 2019-09-26  \n",
       "64  Being a high constructed shoe it being so ligh... 2019-09-26  \n",
       "65  Love the overall concept of the shoe...the air... 2019-09-26  \n",
       "66  Comfort/cushioning is awesome, traction went w... 2019-09-26  \n",
       "67  I have 9+ pairs of the 15’s and no 16’s. The 1... 2019-09-26  \n",
       "\n",
       "[68 rows x 4 columns]"
      ]
     },
     "execution_count": 4,
     "metadata": {},
     "output_type": "execute_result"
    }
   ],
   "source": [
    "df_nike_leborn_17"
   ]
  },
  {
   "cell_type": "code",
   "execution_count": 5,
   "metadata": {},
   "outputs": [],
   "source": [
    "mean1 = df_nike_air_jordan_1_mid['star_rating'].mean()\n",
    "mean2 = df_nike_air_force_1_07['star_rating'].mean()\n",
    "mean3 = df_nike_air_max_97['star_rating'].mean()\n",
    "mean4 = df_nike_air_max_270['Star rating'].mean()\n",
    "mean5 = df_nike_air_max_720['Star rating'].mean()\n",
    "mean6 = df_nike_air_vapormax_flyknit_3['Star rating'].mean()\n",
    "mean7 = df_nike_m2K_tekno['Star rating'].mean()\n",
    "mean8 = df_nike_react_element_55['Star rating'].mean()\n",
    "mean9 = df_nike_zoom_pegasus_turbo_2['Star rating'].mean()\n",
    "mean10 = df_nike_tanjun['Star rating'].mean()"
   ]
  },
  {
   "cell_type": "code",
   "execution_count": 6,
   "metadata": {},
   "outputs": [
    {
     "name": "stdout",
     "output_type": "stream",
     "text": [
      "Mean of star rating(Nike Air Jordan 1 Mid) = 4.590909090909091 \n",
      "Mean of star rating(Nike Air Force 1 07) = 4.656565656565657 \n",
      "Mean of star rating(Nike Air Max 97) = 4.875 \n",
      "Mean of star rating(Nike Air Max 270) = 3.9651162790697674 \n",
      "Mean of star rating(Nike Air Max 720) = 4.809523809523809 \n",
      "Mean of star rating(Nike Air Vapormax Flyknit 3) = 4.390243902439025 \n",
      "Mean of star rating(Nike M2k Tekno) = 4.105263157894737 \n",
      "Mean of star rating(Nike React Element 55) = 4.115384615384615 \n",
      "Mean of star rating(Nike Zoom Pegasus Turbo 2) = 3.404040404040404 \n",
      "Mean of star rating(Nike Tanjun) = 4.257142857142857\n"
     ]
    }
   ],
   "source": [
    "print ('Mean of star rating(Nike Air Jordan 1 Mid) = ' + str(mean1),  \n",
    "       '\\nMean of star rating(Nike Air Force 1 07) = ' + str(mean2),\n",
    "       '\\nMean of star rating(Nike Air Max 97) = ' + str(mean3),\n",
    "       '\\nMean of star rating(Nike Air Max 270) = ' + str(mean4),\n",
    "       '\\nMean of star rating(Nike Air Max 720) = ' + str(mean5),\n",
    "       '\\nMean of star rating(Nike Air Vapormax Flyknit 3) = ' + str(mean6),\n",
    "       '\\nMean of star rating(Nike M2k Tekno) = ' + str(mean7),\n",
    "       '\\nMean of star rating(Nike React Element 55) = ' + str(mean8),\n",
    "       '\\nMean of star rating(Nike Zoom Pegasus Turbo 2) = ' + str(mean9),\n",
    "       '\\nMean of star rating(Nike Tanjun) = ' + str(mean10),\n",
    "      )"
   ]
  },
  {
   "cell_type": "code",
   "execution_count": null,
   "metadata": {},
   "outputs": [],
   "source": []
  },
  {
   "cell_type": "code",
   "execution_count": null,
   "metadata": {},
   "outputs": [],
   "source": []
  }
 ],
 "metadata": {
  "kernelspec": {
   "display_name": "Python 3",
   "language": "python",
   "name": "python3"
  },
  "language_info": {
   "codemirror_mode": {
    "name": "ipython",
    "version": 3
   },
   "file_extension": ".py",
   "mimetype": "text/x-python",
   "name": "python",
   "nbconvert_exporter": "python",
   "pygments_lexer": "ipython3",
   "version": "3.7.6"
  }
 },
 "nbformat": 4,
 "nbformat_minor": 4
}
